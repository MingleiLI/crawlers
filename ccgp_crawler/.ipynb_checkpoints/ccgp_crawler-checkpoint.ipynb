{
 "cells": [
  {
   "cell_type": "code",
   "execution_count": null,
   "metadata": {},
   "outputs": [],
   "source": [
    "#encoding = utf-8\n",
    "from selenium import webdriver\n",
    "phantomjs_path = '/home/guan/Software/phantomjs-2.1.1-linux-x86_64/bin/phantomjs'\n",
    "target_link_1 = 'http://search.ccgp.gov.cn/bxsearch?searchtype=1&page_index='\n",
    "target_link_2 ='&bidSort=0&buyerName=&projectId=&pinMu=0&bidType=7&dbselect=bidx&kw=&start_time=2013%3A01%3A01&end_time=2017%3A07%3A05&timeType=6&displayZone=&zoneId=&pppStatus=0&agentName='\n",
    "max_index = 80504\n",
    "\n",
    "\n",
    "class crawl_ccgp(object):\n",
    "    def __init__(self):\n",
    "        self.ds = webdriver.PhantomJS(executable_path=phantomjs_path)\n",
    "        self.ds.set_page_load_timeout(8)\n",
    "    \n",
    "    def crawl_list(self, target_link, outfile):\n",
    "        self.ds.get(target_link)\n",
    "        items = self.ds.find_elements_by_xpath('//ul[@class=\"vT-srch-result-list-bid\"]/li/a')\n",
    "        for item in items:\n",
    "            link = item.get_attribute('href')\n",
    "            text = item.text.strip()\n",
    "            print >> outfile, str(text) + '|' + str(link)\n",
    "                                            \n",
    "        \n",
    "        \n",
    "\n",
    "\n",
    "if __name__ == \"__main__\":\n",
    "    outfile = open('ccgp_list_20170705', 'a')\n",
    "    i = 0\n",
    "    while i <= max_index:\n",
    "        i += 1\n",
    "        if i % 100 == 0:\n",
    "            print i\n",
    "        target_link = target_link_1 + str(i) + target_link_2\n",
    "        crawl_ccgp().crawl_list(target_link, outfile)\n",
    "        break\n"
   ]
  }
 ],
 "metadata": {
  "kernelspec": {
   "display_name": "Python 2",
   "language": "python",
   "name": "python2"
  },
  "language_info": {
   "codemirror_mode": {
    "name": "ipython",
    "version": 2
   },
   "file_extension": ".py",
   "mimetype": "text/x-python",
   "name": "python",
   "nbconvert_exporter": "python",
   "pygments_lexer": "ipython2",
   "version": "2.7.12"
  }
 },
 "nbformat": 4,
 "nbformat_minor": 0
}
